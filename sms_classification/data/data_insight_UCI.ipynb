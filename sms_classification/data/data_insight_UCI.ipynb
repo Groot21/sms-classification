{
 "cells": [
  {
   "cell_type": "code",
   "execution_count": 42,
   "id": "3b505a43",
   "metadata": {},
   "outputs": [],
   "source": [
    "from collections import Counter\n",
    "import pandas as pd\n",
    "import sklearn"
   ]
  },
  {
   "cell_type": "markdown",
   "id": "693c036c",
   "metadata": {},
   "source": [
    "# Read Dataset"
   ]
  },
  {
   "cell_type": "code",
   "execution_count": 43,
   "id": "fde1cd20",
   "metadata": {},
   "outputs": [
    {
     "name": "stdout",
     "output_type": "stream",
     "text": [
      "  label                                                sms\n",
      "0   ham  Go until jurong point, crazy.. Available only ...\n",
      "1   ham                      Ok lar... Joking wif u oni...\n",
      "2  spam  Free entry in 2 a wkly comp to win FA Cup fina...\n",
      "3   ham  U dun say so early hor... U c already then say...\n",
      "4   ham  Nah I don't think he goes to usf, he lives aro...\n",
      "<class 'pandas.core.frame.DataFrame'>\n",
      "RangeIndex: 5572 entries, 0 to 5571\n",
      "Data columns (total 2 columns):\n",
      " #   Column  Non-Null Count  Dtype \n",
      "---  ------  --------------  ----- \n",
      " 0   label   5572 non-null   object\n",
      " 1   sms     5572 non-null   object\n",
      "dtypes: object(2)\n",
      "memory usage: 87.2+ KB\n",
      "\n",
      "# Duplicates: 403\n",
      "<class 'pandas.core.frame.DataFrame'>\n",
      "RangeIndex: 5169 entries, 0 to 5168\n",
      "Data columns (total 2 columns):\n",
      " #   Column  Non-Null Count  Dtype \n",
      "---  ------  --------------  ----- \n",
      " 0   label   5169 non-null   object\n",
      " 1   sms     5169 non-null   object\n",
      "dtypes: object(2)\n",
      "memory usage: 80.9+ KB\n"
     ]
    }
   ],
   "source": [
    "# Read dataset from .csv-file and set column names\n",
    "col_label = 'label'\n",
    "col_message = 'sms'\n",
    "df = pd.read_csv('./SMSSpamCollection.csv', sep='\\t', names=[col_label, col_message])\n",
    "print(df.head())\n",
    "\n",
    "df.info()\n",
    "\n",
    "# Checking for duplicates\n",
    "print('\\n# Duplicates:', len(df[df.duplicated()]))\n",
    "# Remove duplicated samples\n",
    "df.drop_duplicates(inplace=True, ignore_index=True)\n",
    "df.info()"
   ]
  },
  {
   "cell_type": "code",
   "execution_count": 44,
   "id": "5a675237",
   "metadata": {},
   "outputs": [
    {
     "name": "stdout",
     "output_type": "stream",
     "text": [
      "  label                                                sms\n",
      "0   ham  Go until jurong point, crazy.. Available only ...\n",
      "1   ham                      Ok lar... Joking wif u oni...\n",
      "2  spam  Free entry in 2 a wkly comp to win FA Cup fina...\n",
      "3   ham  U dun say so early hor... U c already then say...\n",
      "4   ham  Nah I don't think he goes to usf, he lives aro...\n"
     ]
    }
   ],
   "source": [
    "# Strip Messages\n",
    "df[col_message] = df[col_message].str.strip()\n",
    "print(df.head())\n"
   ]
  },
  {
   "cell_type": "code",
   "execution_count": 45,
   "id": "2d4dda92",
   "metadata": {},
   "outputs": [
    {
     "name": "stdout",
     "output_type": "stream",
     "text": [
      "Distribution of Labels\n",
      " label\n",
      "ham     4516\n",
      "spam     653\n",
      "Name: count, dtype: int64\n",
      "\n",
      "Ratio Ham:Spam 6.915773353751915\n"
     ]
    }
   ],
   "source": [
    "# Investigate distribution of labels\n",
    "print('Distribution of Labels\\n', df[col_label].value_counts())\n",
    "print('\\nRatio Ham:Spam', df[col_label].value_counts()['ham'] / df[col_label].value_counts()['spam'])\n",
    "# ==> Label Imbalance\n",
    "\n",
    "# Transform label column to boolean values:\n",
    "# Spam -> True; Ham -> False\n",
    "#df['label'] = df['label'].map({'spam': True, 'ham': False})"
   ]
  },
  {
   "cell_type": "code",
   "execution_count": null,
   "id": "cf10cc1a",
   "metadata": {},
   "outputs": [
    {
     "name": "stdout",
     "output_type": "stream",
     "text": [
      "Top 10 SPAM words [('to', 594), ('a', 330), ('call', 298), ('your', 241), ('you', 226), ('for', 183), ('the', 181), ('free', 157), ('or', 157), ('2', 151)]\n",
      "Top 10 HAM words [('i', 2070), ('you', 1610), ('to', 1471), ('the', 1054), ('a', 965), ('and', 816), ('u', 801), ('in', 730), ('my', 670), ('is', 635)]\n"
     ]
    }
   ],
   "source": [
    "# ToDo Preprocessing\n",
    "# Lowercasing, remove stop words, tokenization, stemming, ...\n",
    "\n",
    "# Apply lowercase to sms messages\n",
    "df[col_message] = df[col_message].apply(str.lower)\n",
    "\n",
    "\n",
    "# Analyze most frequent words per class\n",
    "# TODO: remove stop words\n",
    "df_spam = df[df[col_label] == 'spam']\n",
    "spam_text = ' '.join(df_spam[col_message])\n",
    "spam_word_counter = Counter(spam_text.split())\n",
    "print('Top 10 SPAM words', spam_word_counter.most_common(10))\n",
    "\n",
    "df_ham = df[df[col_label] == 'ham']\n",
    "ham_text = ' '.join(df_ham[col_message])\n",
    "ham_word_counter = Counter(ham_text.split())\n",
    "print('Top 10 HAM words', ham_word_counter.most_common(10))"
   ]
  },
  {
   "cell_type": "code",
   "execution_count": null,
   "id": "3d370b1e",
   "metadata": {},
   "outputs": [
    {
     "name": "stdout",
     "output_type": "stream",
     "text": [
      "Ratio Ham:Spam in TRAIN 7.009685230024213\n",
      "Ratio Ham:Spam in VAL 6.31858407079646\n",
      "Ratio Ham:Spam in TEST 7.141732283464567\n"
     ]
    }
   ],
   "source": [
    "# Save preprocessed data\n",
    "df.to_csv('./SMSSpamCollection_preprocessed.csv', index=False)\n",
    "\n",
    "\n",
    "# Perform Train-Val-Test split to quick check its validity\n",
    "seed = 219\n",
    "eval_size = 0.2\n",
    "\n",
    "sms_train_val, sms_test, label_train_val, label_test = sklearn.model_selection.train_test_split(\n",
    "    df['sms'], df['label'], test_size=eval_size, random_state=seed)\n",
    "# Split train_val set into train and val\n",
    "sms_train, sms_val, label_train, label_val = sklearn.model_selection.train_test_split(\n",
    "    sms_train_val, label_train_val, test_size=eval_size, random_state=seed)\n",
    "\n",
    "for set_name, label_set in [('train', label_train), ('val', label_val), ('test', label_test)]:\n",
    "    print(f'Ratio Ham:Spam in {set_name.upper()}', label_set.value_counts()['ham'] / label_set.value_counts()['spam'])\n",
    "    # print('Size', len(label_set))\n",
    "# ==> Ratios are similar (enough), split is ok"
   ]
  }
 ],
 "metadata": {
  "kernelspec": {
   "display_name": "Python 3",
   "language": "python",
   "name": "python3"
  },
  "language_info": {
   "codemirror_mode": {
    "name": "ipython",
    "version": 3
   },
   "file_extension": ".py",
   "mimetype": "text/x-python",
   "name": "python",
   "nbconvert_exporter": "python",
   "pygments_lexer": "ipython3",
   "version": "3.11.11"
  }
 },
 "nbformat": 4,
 "nbformat_minor": 5
}
