{
 "cells": [
  {
   "cell_type": "markdown",
   "id": "41391e08",
   "metadata": {},
   "source": [
    "# Investigation of the Kaggle Dataset"
   ]
  },
  {
   "cell_type": "code",
   "execution_count": 8,
   "id": "3b505a43",
   "metadata": {},
   "outputs": [],
   "source": [
    "import pandas as pd\n",
    "import sklearn"
   ]
  },
  {
   "cell_type": "code",
   "execution_count": 9,
   "id": "fde1cd20",
   "metadata": {},
   "outputs": [
    {
     "name": "stdout",
     "output_type": "stream",
     "text": [
      "     v1                                                 v2 Unnamed: 2  \\\n",
      "0   ham  Go until jurong point, crazy.. Available only ...        NaN   \n",
      "1   ham                      Ok lar... Joking wif u oni...        NaN   \n",
      "2  spam  Free entry in 2 a wkly comp to win FA Cup fina...        NaN   \n",
      "3   ham  U dun say so early hor... U c already then say...        NaN   \n",
      "4   ham  Nah I don't think he goes to usf, he lives aro...        NaN   \n",
      "\n",
      "  Unnamed: 3 Unnamed: 4  \n",
      "0        NaN        NaN  \n",
      "1        NaN        NaN  \n",
      "2        NaN        NaN  \n",
      "3        NaN        NaN  \n",
      "4        NaN        NaN  \n",
      "<class 'pandas.core.frame.DataFrame'>\n",
      "RangeIndex: 5572 entries, 0 to 5571\n",
      "Data columns (total 5 columns):\n",
      " #   Column      Non-Null Count  Dtype \n",
      "---  ------      --------------  ----- \n",
      " 0   v1          5572 non-null   object\n",
      " 1   v2          5572 non-null   object\n",
      " 2   Unnamed: 2  50 non-null     object\n",
      " 3   Unnamed: 3  12 non-null     object\n",
      " 4   Unnamed: 4  6 non-null      object\n",
      "dtypes: object(5)\n",
      "memory usage: 217.8+ KB\n",
      "\n",
      "# Duplicates: 403\n",
      "<class 'pandas.core.frame.DataFrame'>\n",
      "RangeIndex: 5169 entries, 0 to 5168\n",
      "Data columns (total 5 columns):\n",
      " #   Column      Non-Null Count  Dtype \n",
      "---  ------      --------------  ----- \n",
      " 0   v1          5169 non-null   object\n",
      " 1   v2          5169 non-null   object\n",
      " 2   Unnamed: 2  43 non-null     object\n",
      " 3   Unnamed: 3  10 non-null     object\n",
      " 4   Unnamed: 4  5 non-null      object\n",
      "dtypes: object(5)\n",
      "memory usage: 202.0+ KB\n",
      "\n",
      "         v1                                                                                                                                                                                                                                                                                      v2                                                                                                                                        Unnamed: 2                                  Unnamed: 3                                                Unnamed: 4\n",
      "95    spam                                                                                                                                                           Your free ringtone is waiting to be collected. Simply text the password \\MIX\\\" to 85069 to verify. Get Usher and Britney. FML                                                                                                                                       PO Box 5249                        MK17 92H. 450Ppw 16\"                                                       NaN\n",
      "277    ham                                                                                                                                                                                                                                                                     \\Wen u miss someone                                                                       the person is definitely special for u..... But if the person is so special                            why to miss them                             just Keep-in-touch\\\" gdeve..\"\n",
      "436    ham                                                                                                                                                                                                                      \\HEY HEY WERETHE MONKEESPEOPLE SAY WE MONKEYAROUND! HOWDY GORGEOUS                                                                                           HOWU DOIN? FOUNDURSELF A JOBYET SAUSAGE?LOVE JEN XXX\\\"\"                                         NaN                                                       NaN\n",
      "660   spam                                                                                                                                                                                                                                              SMS. ac sun0819 posts HELLO:\\You seem cool                                                                                               wanted to say hi. HI!!!\\\" Stop? Send STOP to 62468\"                                         NaN                                                       NaN\n",
      "698    ham           Height of Confidence: All the Aeronautics professors wer calld &amp; they wer askd 2 sit in an aeroplane. Aftr they sat they wer told dat the plane ws made by their students. Dey all hurried out of d plane.. Bt only 1 didnt move... He said:\\if it is made by my students                                                                                                   this wont even start........ Datz confidence..\"                                         NaN                                                       NaN\n",
      "1014   ham                                                                                                                                         Edison has rightly said, \\A fool can ask more questions than a wise man can answer\\\" Now you know why all of us are speechless during ViVa.. GM                                                                                                                                                GN                                          GE                                                   GNT:-)\"\n",
      "1102   ham                                                                                                                                                                      Height of \\Oh shit....!!\\\" situation: A guy throws a luv letter on a gal but falls on her brothers head whos a gay                                                                                                                                          .;-):-D\"                                         NaN                                                       NaN\n",
      "1229   ham                                                                                                                                                                                                                                         \\Hey sorry I didntgive ya a a bellearlier hunny                                                                   just been in bedbut mite go 2 thepub l8tr if uwana mt up?loads a luv Jenxxx.\\\"\"                                         NaN                                                       NaN\n",
      "1343   ham  Storming msg: Wen u lift d phne, u say \\HELLO\\\" Do u knw wt is d real meaning of HELLO?? . . . It's d name of a girl..! . . . Yes.. And u knw who is dat girl?? \\\"Margaret Hello\\\" She is d girlfrnd f Grahmbell who invnted telphone... . . . . Moral:One can 4get d name of a person                                                                                                  bt not his girlfrnd... G o o d n i g h t . . .@\"                                         NaN                                                       NaN\n",
      "1384   ham                                                                                                                               Tell you what, if you make a little spreadsheet and track whose idea it was to smoke to determine who \\smokes too much\\\" for the entire month of february                                                                                                                                     I'll come up\"                                         NaN                                                       NaN\n",
      "1510   ham                                                                                                                                                                                                               Single line with a big meaning::::: \\Miss anything 4 ur \\\"Best Life\\\" but                                                                                               don't miss ur best life for anything... Gud nyt...\"                                         NaN                                                       NaN\n",
      "1586  spam                                                                                                                                                                                             0A$NETWORKS allow companies to bill for SMS, so they are responsible for their \\suppliers\\\"                                                                                  just as a shop has to give a guarantee on what they sell. B. G.\"                                         NaN                                                       NaN\n",
      "1617   ham                                                                                                                                                                                                             Very hurting n meaningful lines ever: \\I compromised everything for my love                                                                          But at d end my love compromised me for everything:-(\\\".. Gud mornin:-)\"                                         NaN                                                       NaN\n",
      "1623   ham                                                                                                                                                                                                       Painful words- \\I thought being Happy was the most toughest thing on Earth... But                                                                                   the toughest is acting Happy with all unspoken pain inside..\\\"\"                                         NaN                                                       NaN\n",
      "1870   ham                                                                                                                                                                                                                                           My planning usually stops at \\find hella weed                                                                                                                               smoke hella weed\\\"\"                                         NaN                                                       NaN\n",
      "1871   ham                                                                                                                                                                              The fact that you're cleaning shows you know why i'm upset. Your priority is constantly \\what i want to do                                                                                                                    \\\" not \\\"what i need to do.\\\"\"                                         NaN                                                       NaN\n",
      "1922   ham                                                                                                                                                                                                                                                         \\YEH I AM DEF UP4 SOMETHING SAT                        JUST GOT PAYED2DAY & I HAVBEEN GIVEN Aå£50 PAY RISE 4MY WORK & HAVEBEEN MADE PRESCHOOLCO-ORDINATOR 2I AM FEELINGOOD LUV\\\"\"                                         NaN                                                       NaN\n",
      "2011   ham                                                                                                                                                                                                                                                                           \\alright babe                    justthought iåÕd sayhey! how u doin?nearly the endof me wk offdam nevamind!We will have 2Hook up sn if uwant m8? loveJen x.\\\"\"                                         NaN                                                       NaN\n",
      "2086   ham                                                                                                                                                                                                                         \\CAN I PLEASE COME UP NOW IMIN TOWN.DONTMATTER IF URGOIN OUTL8R                                                                                        JUST REALLYNEED 2DOCD.PLEASE DONTPLEASE DONTIGNORE MYCALLS    U NO THECD ISV.IMPORTANT TOME 4 2MORO\\\"\"                                                       NaN\n",
      "2148   ham                                                                                                                                                \\Si.como no?!listened2the plaid album-quite gd&the new air1 which is hilarious-also boughtåÓbraindanceåÓa comp.ofstuff on aphexåÕs ;abel                                                                                                                      u hav2hear it!c u sn xxxx\\\"\"                                         NaN                                                       NaN\n",
      "2168   ham                                                                                                                                                                                                                                           I just lov this line: \\Hurt me with the truth                                                                                                                                      I don't mind    i wil tolerat.bcs ur my someone..... But   Never comfort me with a lie\\\" gud ni8 and sweet dreams\"\n",
      "2307   ham                                                                                                                                                                                                                                   One of best dialogue in cute reltnship..!! \\Wen i Die                                                    Dont Come Near My Body..!! Bcoz My Hands May Not Come 2 Wipe Ur Tears Off That Time..!Gud ni8\"                                         NaN                                                       NaN\n",
      "2663   ham                                                                                                                                                           ‰Û_ we r stayin here an extra week, back next wed. How did we do in the rugby this weekend? Hi to and and , c u soon \\\"\\rham\"                                                                                         Well there's still a bit left if you guys want to tonight                                         NaN                                                       NaN\n",
      "2952   ham                                                                                                                                                                                                                                                    Short But Cute : \\ Be a good person                                                                                                         but dont try to prove\\\" ..... Gud mrng...\"                                         NaN                                                       NaN\n",
      "2984   ham                                                                                                                                                                                                                                                    \\SHIT BABE.. THASA BIT MESSED UP.YEH                                                                                                           SHE SHUDVETOLD U. DID URGRAN KNOW?NEWAY   ILLSPEAK 2 U2MORO WEN IM NOT ASLEEP...\\\"\"                                                       NaN\n",
      "3067   ham                                                                                                                                                                                              A cute thought for friendship: \\Its not necessary to share every secret with ur close Frnd                                                                                                        but watever u shared should be true\\\"....\"                                         NaN                                                       NaN\n",
      "3308   ham                                                                                                                                                                                                                                                    Two fundamentals of cool life: \\Walk                                                                                          like you are the KING\\\"...! OR \\\"Walk like you Dont care          whoever is the KING\\\"!... Gud nyt\"                                                       NaN\n",
      "3327   ham                                                                                                                                                                                            \\HEY BABE! FAR 2 SPUN-OUT 2 SPK AT DA MO... DEAD 2 DA WRLD. BEEN SLEEPING ON DA SOFA ALL DAY                                                                                                                                  HAD A COOL NYTHO                              TX 4 FONIN HON                       CALL 2MWEN IM BK FRMCLOUD 9! J X\\\"\"\n",
      "3433  spam                                                                                                                                                        You can stop further club tones by replying \\STOP MIX\\\" See my-tone.com/enjoy. html for terms. Club tones cost GBP4.50/week. MFL                                                                                                                       PO Box 1146 MK45 2WT (2/3)\"                                         NaN                                                       NaN\n",
      "3538   ham                                                                                                                                                                                                                     GOD ASKED, \\What is forgiveness?\\\" A little child gave lovely reply                                                  \\\"It is d wonderful fruit that a tree gives when it is being hurt by a stone.. Good night......\"                                         NaN                                                       NaN\n",
      "3564   ham                                                                                                                                                                                                                                                   Are you sure you don't mean \\get here                                                                                                                  we made you hold all the weed\\\"\"                                         NaN                                                       NaN\n",
      "3569   ham                                                                                                                                                                                                                                                       Short But Cute: \\Be a good person                                                                                                       but dont try to prove it..\\\" .Gud noon....\"                                         NaN                                                       NaN\n",
      "3877   ham                                                                                                                                                                                                           \\Its Ur luck to Love someone. Its Ur fortune to Love the one who Loves U. But                                                                    its a miracle to Love a person who can't Love anyone except U...\\\" Gud nyt...\"                                         NaN                                                       NaN\n",
      "3959   ham                                                                                                                                                                     \\The world suffers a lot... Not because of the violence of bad people. But because of the silence of good people!\\\"                                                                                                                                    Gud night....\"                                         NaN                                                       NaN\n",
      "4167   ham                                                                                                                                                                                                                    If you want to mapquest it or something look up \\usf dogwood drive\\\"                                                                                                  that's the tiny street where the parking lot is\"                                         NaN                                                       NaN\n",
      "4273   ham                                                                                                                                                                                                                                                      \\CHA QUITEAMUZING THATåÕSCOOL BABE                                                         PROBPOP IN & CU SATTHEN HUNNY 4BREKKIE! LOVE JEN XXX. PSXTRA LRG PORTIONS 4 ME PLEASE \\\"\"                                         NaN                                                       NaN\n",
      "4300   ham                                                                                                                                                                                                                                                          \\Hey j! r u feeling any better                     hopeSo hunny. i amnow feelin ill & ithink i may have tonsolitusaswell! damn iam layin in bedreal bored. lotsof luv me xxxx\\\"\"                                         NaN                                                       NaN\n",
      "4360   ham                                                                                                                                                                                                                  When I was born, GOD said, \\Oh No! Another IDIOT\\\". When you were born                                                                                                                                          GOD said            \\\"OH No! COMPETITION\\\". Who knew           one day these two will become FREINDS FOREVER!\"\n",
      "4535   ham                                                                                                                                                                                                        \\Response\\\" is one of d powerful weapon 2 occupy a place in others 'HEART'... So                                                                       always give response 2 who cares 4 U\\\"... Gud night..swt dreams..take care\"                                         NaN                                                       NaN\n",
      "4653   ham                                                                                                                                                                                                                                                                               \\HEY KATE   HOPE UR OK... WILL GIVE U A BUZ WEDLUNCH. GO OUTSOMEWHERE 4 ADRINK IN TOWN..CUD GO 2WATERSHD 4 A BIT? PPL FROMWRK WILL BTHERE. LOVE PETEXXX.\\\"\"                                         NaN                                                       NaN\n",
      "4734   ham                                                                                                                                                                                                                                                           \\Keep ur problems in ur heart                           b'coz nobody will fight for u. Only u &amp; u have to fight for ur self &amp; win the battle. -VIVEKANAND- G 9t.. SD..\"                                         NaN                                                       NaN\n",
      "4736   ham                                                                                                                                                                 \\HI BABE UAWAKE?FEELLIKW SHIT.JUSTFOUND OUT VIA ALETTER THATMUM GOTMARRIED 4thNOV.BEHIND OURBACKS åÐ FUCKINNICE!SELFISH                                                                                                                               DEVIOUSBITCH.ANYWAY                              IåÕL CALL U\\\"\"                                                       NaN\n",
      "4896   ham                                                                                                                                                                                                                                                                                     \\ER                                                                   ENJOYIN INDIANS AT THE MO..yeP. SaLL gOoD HehE ;> hows bout u shexy? Pete Xx\\\"\"                                         NaN                                                       NaN\n"
     ]
    }
   ],
   "source": [
    "df = pd.read_csv('./spam.csv', encoding = 'cp1252')\n",
    "print(df.head())\n",
    "\n",
    "df.info()\n",
    "\n",
    "# Checking for duplicates\n",
    "print('\\n# Duplicates:', len(df[df.duplicated()]))\n",
    "# Remove duplicated samples\n",
    "df.drop_duplicates(inplace=True, ignore_index=True)\n",
    "df.info()\n",
    "\n",
    "# First column contains the labels, second column contains the messages\n",
    "# Columns 2-4 should not be present, so let's investigate them and fix that!\n",
    "rows_to_investigate = df.dropna(subset=df.columns[2:], how='all')\n",
    "indices_to_investigate = rows_to_investigate.index\n",
    "print('\\n', rows_to_investigate.to_string())"
   ]
  },
  {
   "cell_type": "code",
   "execution_count": 10,
   "id": "5a675237",
   "metadata": {},
   "outputs": [
    {
     "name": "stdout",
     "output_type": "stream",
     "text": [
      "<class 'pandas.core.frame.DataFrame'>\n",
      "RangeIndex: 5169 entries, 0 to 5168\n",
      "Data columns (total 2 columns):\n",
      " #   Column  Non-Null Count  Dtype \n",
      "---  ------  --------------  ----- \n",
      " 0   v1      5169 non-null   object\n",
      " 1   v2      5169 non-null   object\n",
      "dtypes: object(2)\n",
      "memory usage: 80.9+ KB\n",
      "        v1                                                                                                                                                                                                                                                                                                                                          v2\n",
      "95    spam                                                                                                                                                                           Your free ringtone is waiting to be collected. Simply text the password \\MIX\\\" to 85069 to verify. Get Usher and Britney. FML, PO Box 5249, MK17 92H. 450Ppw 16\",\n",
      "277    ham                                                                                                                                                                                           \\Wen u miss someone, the person is definitely special for u..... But if the person is so special, why to miss them, just Keep-in-touch\\\" gdeve..\"\n",
      "436    ham                                                                                                                                                                                                               \\HEY HEY WERETHE MONKEESPEOPLE SAY WE MONKEYAROUND! HOWDY GORGEOUS, HOWU DOIN? FOUNDURSELF A JOBYET SAUSAGE?LOVE JEN XXX\\\"\",,\n",
      "660   spam                                                                                                                                                                                                                                           SMS. ac sun0819 posts HELLO:\\You seem cool, wanted to say hi. HI!!!\\\" Stop? Send STOP to 62468\",,\n",
      "698    ham             Height of Confidence: All the Aeronautics professors wer calld &amp; they wer askd 2 sit in an aeroplane. Aftr they sat they wer told dat the plane ws made by their students. Dey all hurried out of d plane.. Bt only 1 didnt move... He said:\\if it is made by my students,this wont even start........ Datz confidence..\",,\n",
      "1014   ham                                                                                                                                                                               Edison has rightly said, \\A fool can ask more questions than a wise man can answer\\\" Now you know why all of us are speechless during ViVa.. GM,GN,GE,GNT:-)\"\n",
      "1102   ham                                                                                                                                                                                                               Height of \\Oh shit....!!\\\" situation: A guy throws a luv letter on a gal but falls on her brothers head whos a gay,.;-):-D\",,\n",
      "1229   ham                                                                                                                                                                                                           \\Hey sorry I didntgive ya a a bellearlier hunny,just been in bedbut mite go 2 thepub l8tr if uwana mt up?loads a luv Jenxxx.\\\"\",,\n",
      "1343   ham  Storming msg: Wen u lift d phne, u say \\HELLO\\\" Do u knw wt is d real meaning of HELLO?? . . . It's d name of a girl..! . . . Yes.. And u knw who is dat girl?? \\\"Margaret Hello\\\" She is d girlfrnd f Grahmbell who invnted telphone... . . . . Moral:One can 4get d name of a person, bt not his girlfrnd... G o o d n i g h t . . .@\",,\n",
      "1384   ham                                                                                                                                                                  Tell you what, if you make a little spreadsheet and track whose idea it was to smoke to determine who \\smokes too much\\\" for the entire month of february, I'll come up\",,\n",
      "1510   ham                                                                                                                                                                                                            Single line with a big meaning::::: \\Miss anything 4 ur \\\"Best Life\\\" but, don't miss ur best life for anything... Gud nyt...\",,\n",
      "1586  spam                                                                                                                                                                             0A$NETWORKS allow companies to bill for SMS, so they are responsible for their \\suppliers\\\", just as a shop has to give a guarantee on what they sell. B. G.\",,\n",
      "1617   ham                                                                                                                                                                                     Very hurting n meaningful lines ever: \\I compromised everything for my love, But at d end my love compromised me for everything:-(\\\".. Gud mornin:-)\",,\n",
      "1623   ham                                                                                                                                                                                        Painful words- \\I thought being Happy was the most toughest thing on Earth... But, the toughest is acting Happy with all unspoken pain inside..\\\"\",,\n",
      "1870   ham                                                                                                                                                                                                                                                                        My planning usually stops at \\find hella weed, smoke hella weed\\\"\",,\n",
      "1871   ham                                                                                                                                                                                                 The fact that you're cleaning shows you know why i'm upset. Your priority is constantly \\what i want to do,\\\" not \\\"what i need to do.\\\"\",,\n",
      "1922   ham                                                                                                                                                                                \\YEH I AM DEF UP4 SOMETHING SAT,JUST GOT PAYED2DAY & I HAVBEEN GIVEN Aå£50 PAY RISE 4MY WORK & HAVEBEEN MADE PRESCHOOLCO-ORDINATOR 2I AM FEELINGOOD LUV\\\"\",,\n",
      "2011   ham                                                                                                                                                                                             \\alright babe, justthought iåÕd sayhey! how u doin?nearly the endof me wk offdam nevamind!We will have 2Hook up sn if uwant m8? loveJen x.\\\"\",,\n",
      "2086   ham                                                                                                                                                                        \\CAN I PLEASE COME UP NOW IMIN TOWN.DONTMATTER IF URGOIN OUTL8R,JUST REALLYNEED 2DOCD.PLEASE DONTPLEASE DONTIGNORE MYCALLS,U NO THECD ISV.IMPORTANT TOME 4 2MORO\\\"\",\n",
      "2148   ham                                                                                                                                                                     \\Si.como no?!listened2the plaid album-quite gd&the new air1 which is hilarious-also boughtåÓbraindanceåÓa comp.ofstuff on aphexåÕs ;abel,u hav2hear it!c u sn xxxx\\\"\",,\n",
      "2168   ham                                                                                                                                                                               I just lov this line: \\Hurt me with the truth, I don't mind,i wil tolerat.bcs ur my someone..... But, Never comfort me with a lie\\\" gud ni8 and sweet dreams\"\n",
      "2307   ham                                                                                                                                                                                     One of best dialogue in cute reltnship..!! \\Wen i Die, Dont Come Near My Body..!! Bcoz My Hands May Not Come 2 Wipe Ur Tears Off That Time..!Gud ni8\",,\n",
      "2663   ham                                                                                                                                                   ‰Û_ we r stayin here an extra week, back next wed. How did we do in the rugby this weekend? Hi to and and , c u soon \\\"\\rham\",Well there's still a bit left if you guys want to tonight,,\n",
      "2952   ham                                                                                                                                                                                                                                                          Short But Cute : \\ Be a good person , but dont try to prove\\\" ..... Gud mrng...\",,\n",
      "2984   ham                                                                                                                                                                                                                   \\SHIT BABE.. THASA BIT MESSED UP.YEH, SHE SHUDVETOLD U. DID URGRAN KNOW?NEWAY, ILLSPEAK 2 U2MORO WEN IM NOT ASLEEP...\\\"\",\n",
      "3067   ham                                                                                                                                                                                                    A cute thought for friendship: \\Its not necessary to share every secret with ur close Frnd, but watever u shared should be true\\\"....\",,\n",
      "3308   ham                                                                                                                                                                                                          Two fundamentals of cool life: \\Walk, like you are the KING\\\"...! OR \\\"Walk like you Dont care,whoever is the KING\\\"!... Gud nyt\",\n",
      "3327   ham                                                                                                                                                                         \\HEY BABE! FAR 2 SPUN-OUT 2 SPK AT DA MO... DEAD 2 DA WRLD. BEEN SLEEPING ON DA SOFA ALL DAY, HAD A COOL NYTHO, TX 4 FONIN HON, CALL 2MWEN IM BK FRMCLOUD 9! J X\\\"\"\n",
      "3433  spam                                                                                                                                                                             You can stop further club tones by replying \\STOP MIX\\\" See my-tone.com/enjoy. html for terms. Club tones cost GBP4.50/week. MFL, PO Box 1146 MK45 2WT (2/3)\",,\n",
      "3538   ham                                                                                                                                                                     GOD ASKED, \\What is forgiveness?\\\" A little child gave lovely reply, \\\"It is d wonderful fruit that a tree gives when it is being hurt by a stone.. Good night......\",,\n",
      "3564   ham                                                                                                                                                                                                                                                                   Are you sure you don't mean \\get here, we made you hold all the weed\\\"\",,\n",
      "3569   ham                                                                                                                                                                                                                                                            Short But Cute: \\Be a good person, but dont try to prove it..\\\" .Gud noon....\",,\n",
      "3877   ham                                                                                                                                                                             \\Its Ur luck to Love someone. Its Ur fortune to Love the one who Loves U. But, its a miracle to Love a person who can't Love anyone except U...\\\" Gud nyt...\",,\n",
      "3959   ham                                                                                                                                                                                                       \\The world suffers a lot... Not because of the violence of bad people. But because of the silence of good people!\\\", Gud night....\",,\n",
      "4167   ham                                                                                                                                                                                                                    If you want to mapquest it or something look up \\usf dogwood drive\\\", that's the tiny street where the parking lot is\",,\n",
      "4273   ham                                                                                                                                                                                                              \\CHA QUITEAMUZING THATåÕSCOOL BABE,PROBPOP IN & CU SATTHEN HUNNY 4BREKKIE! LOVE JEN XXX. PSXTRA LRG PORTIONS 4 ME PLEASE \\\"\",,\n",
      "4300   ham                                                                                                                                                                             \\Hey j! r u feeling any better, hopeSo hunny. i amnow feelin ill & ithink i may have tonsolitusaswell! damn iam layin in bedreal bored. lotsof luv me xxxx\\\"\",,\n",
      "4360   ham                                                                                                                                                                         When I was born, GOD said, \\Oh No! Another IDIOT\\\". When you were born, GOD said, \\\"OH No! COMPETITION\\\". Who knew, one day these two will become FREINDS FOREVER!\"\n",
      "4535   ham                                                                                                                                                                             \\Response\\\" is one of d powerful weapon 2 occupy a place in others 'HEART'... So, always give response 2 who cares 4 U\\\"... Gud night..swt dreams..take care\",,\n",
      "4653   ham                                                                                                                                                                                \\HEY KATE, HOPE UR OK... WILL GIVE U A BUZ WEDLUNCH. GO OUTSOMEWHERE 4 ADRINK IN TOWN..CUD GO 2WATERSHD 4 A BIT? PPL FROMWRK WILL BTHERE. LOVE PETEXXX.\\\"\",,\n",
      "4734   ham                                                                                                                                                                                    \\Keep ur problems in ur heart, b'coz nobody will fight for u. Only u &amp; u have to fight for ur self &amp; win the battle. -VIVEKANAND- G 9t.. SD..\",,\n",
      "4736   ham                                                                                                                                                                                 \\HI BABE UAWAKE?FEELLIKW SHIT.JUSTFOUND OUT VIA ALETTER THATMUM GOTMARRIED 4thNOV.BEHIND OURBACKS åÐ FUCKINNICE!SELFISH,DEVIOUSBITCH.ANYWAY,IåÕL CALL U\\\"\",\n",
      "4896   ham                                                                                                                                                                                                                                                      \\ER, ENJOYIN INDIANS AT THE MO..yeP. SaLL gOoD HehE ;> hows bout u shexy? Pete Xx\\\"\",,\n"
     ]
    }
   ],
   "source": [
    "# Fix dataset: Let's join all text in collums 1-4 to form column 1\n",
    "\n",
    "df[df.columns[1]] = df[df.columns[1:]].fillna('').aggregate(','.join, axis=1).str.strip()\n",
    "# df.loc[:, 2] = df.iloc[:, 2:].astype(str).fillna('').aggregate(' '.join, axis=1).str.strip()\n",
    "\n",
    "\n",
    "# Drop unnecessary columns\n",
    "df.drop(columns=df.columns[2:], inplace=True)\n",
    "df.info()\n",
    "\n",
    "# Quick check:\n",
    "print(df.loc[indices_to_investigate, :].to_string())\n",
    "\n",
    "# Rename columns\n",
    "df.rename({df.columns[0]: 'label', df.columns[1]: 'sms'}, axis=1, inplace=True)"
   ]
  },
  {
   "cell_type": "code",
   "execution_count": 11,
   "id": "2d4dda92",
   "metadata": {},
   "outputs": [
    {
     "name": "stdout",
     "output_type": "stream",
     "text": [
      "Distribution of Labels\n",
      " label\n",
      "ham     4516\n",
      "spam     653\n",
      "Name: count, dtype: int64\n",
      "Ratio Ham:Spam 6.915773353751915\n"
     ]
    }
   ],
   "source": [
    "# Investigate distribution of labels\n",
    "print('Distribution of Labels\\n', df['label'].value_counts())\n",
    "print('Ratio Ham:Spam', df['label'].value_counts()['ham'] / df['label'].value_counts()['spam'])\n",
    "\n",
    "# Transform label column to boolean values:\n",
    "# Spam -> True; Ham -> False\n",
    "#df['label'] = df['label'].map({'spam': True, 'ham': False})"
   ]
  },
  {
   "cell_type": "code",
   "execution_count": null,
   "id": "cf10cc1a",
   "metadata": {},
   "outputs": [],
   "source": [
    "# ToDo Preprocessing\n",
    "# Lowercasing, remove stop words, tokenization, stemming, ...\n",
    "\n",
    "# Apply lowercase to sms messages\n",
    "df['sms'] = df['sms'].apply(str.lower)"
   ]
  },
  {
   "cell_type": "code",
   "execution_count": null,
   "id": "3d370b1e",
   "metadata": {},
   "outputs": [
    {
     "name": "stdout",
     "output_type": "stream",
     "text": [
      "Ratio Ham:Spam in TRAINING 6.921455938697318\n",
      "Ratio Ham:Spam in TEST 6.893129770992366\n"
     ]
    }
   ],
   "source": [
    "# Save preprocessed data\n",
    "df.to_csv('./spam_preprocessed.csv', index=False)\n",
    "\n",
    "\n",
    "# Perform Train-Test split\n",
    "seed = 219\n",
    "eval_size = 0.2\n",
    "sms_train, sms_test, label_train, label_test = sklearn.model_selection.train_test_split(df['sms'], df['label'], test_size=eval_size, random_state=seed)\n",
    "\n",
    "\n",
    "print('Ratio Ham:Spam in TRAINING', label_train.value_counts()['ham'] / label_train.value_counts()['spam'])\n",
    "print('Ratio Ham:Spam in TEST', label_test.value_counts()['ham'] / label_test.value_counts()['spam'])"
   ]
  }
 ],
 "metadata": {
  "kernelspec": {
   "display_name": "Python 3",
   "language": "python",
   "name": "python3"
  },
  "language_info": {
   "codemirror_mode": {
    "name": "ipython",
    "version": 3
   },
   "file_extension": ".py",
   "mimetype": "text/x-python",
   "name": "python",
   "nbconvert_exporter": "python",
   "pygments_lexer": "ipython3",
   "version": "3.11.11"
  }
 },
 "nbformat": 4,
 "nbformat_minor": 5
}
